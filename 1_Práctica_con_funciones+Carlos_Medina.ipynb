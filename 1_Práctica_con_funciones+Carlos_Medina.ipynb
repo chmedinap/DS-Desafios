{
  "nbformat": 4,
  "nbformat_minor": 0,
  "metadata": {
    "colab": {
      "name": "1 - Práctica con funciones+Carlos Medina.ipynb",
      "provenance": [],
      "authorship_tag": "ABX9TyM0hNOJRQomkgFgjhtQfGtY",
      "include_colab_link": true
    },
    "kernelspec": {
      "name": "python3",
      "display_name": "Python 3"
    },
    "language_info": {
      "name": "python"
    }
  },
  "cells": [
    {
      "cell_type": "markdown",
      "metadata": {
        "id": "view-in-github",
        "colab_type": "text"
      },
      "source": [
        "<a href=\"https://colab.research.google.com/github/chmedinap/DS-Desafios/blob/master/1_Pr%C3%A1ctica_con_funciones%2BCarlos_Medina.ipynb\" target=\"_parent\"><img src=\"https://colab.research.google.com/assets/colab-badge.svg\" alt=\"Open In Colab\"/></a>"
      ]
    },
    {
      "cell_type": "markdown",
      "metadata": {
        "id": "Zz9phVrY30al"
      },
      "source": [
        "**Punto 1:** \n",
        "Escribir una función para calcular el factorial de un número cualquiera.\n",
        "\n",
        "R:// \n",
        "Paso 1- Creacion de la funcion. \n",
        "\n",
        "\n",
        "```\n",
        "#def funFacto(numFacto):               #Definicion funcion y entrada\n",
        "  resultado=1                          #Inicia variable\n",
        "    for i in range (1, numFacto+1):\n",
        "      resultado*=i                     # variable se multiplica por el # de iteracion del for\n",
        "    return resultado                    #regresa numero factorial\n",
        "\n",
        "```\n",
        "\n",
        "\n",
        "(No especificado en el problema.)\n",
        "Paso 2- Pedir al usuario introducir numero y transformarlo en int. \n",
        "\n",
        "\n",
        "```\n",
        "numUsuario=int(input(\"Escriba el numero:\"))\n",
        "```\n",
        "\n",
        "\n",
        "Paso 3- Procesar el nunmero con la funcion\n",
        "\n",
        "\n",
        "```\n",
        "# resultado=funFacto(numUsuario)\n",
        "```\n",
        "\n",
        "Paso 4- Imprimir\n",
        "\n",
        "\n",
        "\n",
        "```\n",
        "#print (resultado)\n",
        "```\n",
        "\n",
        "\n"
      ]
    },
    {
      "cell_type": "code",
      "metadata": {
        "colab": {
          "base_uri": "https://localhost:8080/"
        },
        "id": "OFHT3ros3ZXE",
        "outputId": "613e9ec7-acfd-41a8-9486-5d724b8bc305"
      },
      "source": [
        "def funFacto(numFacto):\n",
        "  fact=1\n",
        "  for i in range (1, numFacto+1):\n",
        "    fact*=i\n",
        "  return fact\n",
        "\n",
        "numUsuario=int(input(\"Escriba el numero:\"))\n",
        "resultado=funFacto(numUsuario)\n",
        "print (resultado)\n",
        "\n"
      ],
      "execution_count": null,
      "outputs": [
        {
          "output_type": "stream",
          "text": [
            "Escriba el numero:4\n",
            "24\n"
          ],
          "name": "stdout"
        }
      ]
    },
    {
      "cell_type": "markdown",
      "metadata": {
        "id": "OhujIMgWEgSE"
      },
      "source": [
        "**Punto 2**:\n",
        "Escribir una función para calcular la suma de una serie comenzando por un número cualquiera y terminando en otro número que debe ser mayor al primero.\n",
        "\n",
        "\n",
        "R:// \n",
        "Paso 1- Creacion de la funcion. \n",
        "\n",
        "\n",
        "```\n",
        "def sumSerie(numInicio, numFinal):            #Definicion funcion y entrada\n",
        "  resultadoSum=0                              #Inicia variable\n",
        "    for i in range (numInicio, numFinal+1)::  # Se define la serie. Sera el numero entrado mas 10\n",
        "      esultadoSum+=i                    # variable se suma por el # de iteracion del for\n",
        "    return resultadoSum                    #regresa numero factorial\n",
        "\n",
        "```\n",
        "\n",
        "\n",
        "(No especificado en el problema.)\n",
        "Paso 2- Pedir al usuario introducir numero y transformarlo en int. \n",
        "\n",
        "\n",
        "```\n",
        "# numUsuarioInico=int(input(\"Escriba el numero:\"))\n",
        "```\n",
        "\n",
        "\n",
        "Paso 3- Procesar el nunmero con la funcion\n",
        "\n",
        "\n",
        "```\n",
        "# resultadoFun=sumSerie(numUsuarioInico)\n",
        "```\n",
        "\n",
        "Paso 4- Imprimir\n",
        "\n",
        "\n",
        "\n",
        "```\n",
        "#print (resultadoFun)\n",
        "```\n"
      ]
    },
    {
      "cell_type": "code",
      "metadata": {
        "colab": {
          "base_uri": "https://localhost:8080/"
        },
        "id": "dLz_DpxAEueN",
        "outputId": "403f76eb-5ff0-4b7d-f2ad-ee51dafbda09"
      },
      "source": [
        "def sumSerie(numInicio, numFinal):\n",
        "  resultadoSum=0\n",
        "  for i in range (numInicio, numFinal+1):\n",
        "    resultadoSum+=i\n",
        "  return resultadoSum\n",
        "\n",
        "numUsuarioInicio1=int(input(\"Escriba el numero de inicio:\"))\n",
        "numUsuarioInicio2=int(input(\"Escriba el numero de final:\"))\n",
        "resultadoFun=sumSerie(numUsuarioInicio1,numUsuarioInicio2)\n",
        "print(\"el resultado es: \", resultadoFun)"
      ],
      "execution_count": null,
      "outputs": [
        {
          "output_type": "stream",
          "text": [
            "Escriba el numero de inicio:1\n",
            "Escriba el numero de final:5\n",
            "el resultado es:  15\n"
          ],
          "name": "stdout"
        }
      ]
    }
  ]
}